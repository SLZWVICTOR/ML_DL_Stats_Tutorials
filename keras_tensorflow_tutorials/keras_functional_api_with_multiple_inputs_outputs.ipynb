{
 "cells": [
  {
   "cell_type": "code",
   "execution_count": 4,
   "metadata": {},
   "outputs": [],
   "source": [
    "import keras\n",
    "from keras.layers import Input, Embedding, LSTM, Dense\n",
    "from keras.models import Model"
   ]
  },
  {
   "cell_type": "code",
   "execution_count": 5,
   "metadata": {},
   "outputs": [],
   "source": [
    "# Headline input: meant to receive sequences of 100 integers, between 1 and 10000.\n",
    "# Note that we can name any layer by passing it a \"name\" argument.\n",
    "main_input = Input(shape=(100,), dtype='int32', name='main_input')\n",
    "\n",
    "# This embedding layer will encode the input sequence\n",
    "# into a sequence of dense 512-dimensional vectors.\n",
    "x = Embedding(output_dim=512, input_dim=10000, input_length=100)(main_input)\n",
    "\n",
    "# A LSTM will transform the vector sequence into a single vector,\n",
    "# containing information about the entire sequence\n",
    "lstm_out = LSTM(32)(x)"
   ]
  },
  {
   "cell_type": "code",
   "execution_count": 6,
   "metadata": {},
   "outputs": [],
   "source": [
    "auxiliary_output = Dense(1, activation='sigmoid', name='aux_output')(lstm_out)\n",
    "\n",
    "auxiliary_input = Input(shape=(5,), name='aux_input')\n",
    "x = keras.layers.concatenate([lstm_out, auxiliary_input])\n",
    "\n",
    "# We stack a deep densely-connected network on top\n",
    "x = Dense(64, activation='relu')(x)\n",
    "x = Dense(64, activation='relu')(x)\n",
    "x = Dense(64, activation='relu')(x)\n",
    "\n",
    "# And finally we add the main logistic regression layer\n",
    "main_output = Dense(1, activation='sigmoid', name='main_output')(x)\n",
    "\n",
    "model = Model(inputs=[main_input, auxiliary_input], outputs=[main_output, auxiliary_output])"
   ]
  },
  {
   "cell_type": "code",
   "execution_count": 7,
   "metadata": {},
   "outputs": [
    {
     "data": {
      "image/svg+xml": [
       "<svg height=\"556pt\" viewBox=\"0.00 0.00 329.00 556.00\" width=\"329pt\" xmlns=\"http://www.w3.org/2000/svg\" xmlns:xlink=\"http://www.w3.org/1999/xlink\">\n",
       "<g class=\"graph\" id=\"graph0\" transform=\"scale(1 1) rotate(0) translate(4 552)\">\n",
       "<title>G</title>\n",
       "<polygon fill=\"#ffffff\" points=\"-4,4 -4,-552 325,-552 325,4 -4,4\" stroke=\"transparent\"/>\n",
       "<!-- 103865721016 -->\n",
       "<g class=\"node\" id=\"node1\">\n",
       "<title>103865721016</title>\n",
       "<polygon fill=\"none\" points=\"163.5,-511.5 163.5,-547.5 313.5,-547.5 313.5,-511.5 163.5,-511.5\" stroke=\"#000000\"/>\n",
       "<text fill=\"#000000\" font-family=\"Times,serif\" font-size=\"14.00\" text-anchor=\"middle\" x=\"238.5\" y=\"-525.8\">main_input: InputLayer</text>\n",
       "</g>\n",
       "<!-- 103865721072 -->\n",
       "<g class=\"node\" id=\"node2\">\n",
       "<title>103865721072</title>\n",
       "<polygon fill=\"none\" points=\"156,-438.5 156,-474.5 321,-474.5 321,-438.5 156,-438.5\" stroke=\"#000000\"/>\n",
       "<text fill=\"#000000\" font-family=\"Times,serif\" font-size=\"14.00\" text-anchor=\"middle\" x=\"238.5\" y=\"-452.8\">embedding_2: Embedding</text>\n",
       "</g>\n",
       "<!-- 103865721016&#45;&gt;103865721072 -->\n",
       "<g class=\"edge\" id=\"edge1\">\n",
       "<title>103865721016-&gt;103865721072</title>\n",
       "<path d=\"M238.5,-511.4551C238.5,-503.3828 238.5,-493.6764 238.5,-484.6817\" fill=\"none\" stroke=\"#000000\"/>\n",
       "<polygon fill=\"#000000\" points=\"242.0001,-484.5903 238.5,-474.5904 235.0001,-484.5904 242.0001,-484.5903\" stroke=\"#000000\"/>\n",
       "</g>\n",
       "<!-- 103865721128 -->\n",
       "<g class=\"node\" id=\"node3\">\n",
       "<title>103865721128</title>\n",
       "<polygon fill=\"none\" points=\"189,-365.5 189,-401.5 288,-401.5 288,-365.5 189,-365.5\" stroke=\"#000000\"/>\n",
       "<text fill=\"#000000\" font-family=\"Times,serif\" font-size=\"14.00\" text-anchor=\"middle\" x=\"238.5\" y=\"-379.8\">lstm_2: LSTM</text>\n",
       "</g>\n",
       "<!-- 103865721072&#45;&gt;103865721128 -->\n",
       "<g class=\"edge\" id=\"edge2\">\n",
       "<title>103865721072-&gt;103865721128</title>\n",
       "<path d=\"M238.5,-438.4551C238.5,-430.3828 238.5,-420.6764 238.5,-411.6817\" fill=\"none\" stroke=\"#000000\"/>\n",
       "<polygon fill=\"#000000\" points=\"242.0001,-411.5903 238.5,-401.5904 235.0001,-411.5904 242.0001,-411.5903\" stroke=\"#000000\"/>\n",
       "</g>\n",
       "<!-- 103868160992 -->\n",
       "<g class=\"node\" id=\"node5\">\n",
       "<title>103868160992</title>\n",
       "<polygon fill=\"none\" points=\"0,-292.5 0,-328.5 173,-328.5 173,-292.5 0,-292.5\" stroke=\"#000000\"/>\n",
       "<text fill=\"#000000\" font-family=\"Times,serif\" font-size=\"14.00\" text-anchor=\"middle\" x=\"86.5\" y=\"-306.8\">concatenate_1: Concatenate</text>\n",
       "</g>\n",
       "<!-- 103865721128&#45;&gt;103868160992 -->\n",
       "<g class=\"edge\" id=\"edge3\">\n",
       "<title>103865721128-&gt;103868160992</title>\n",
       "<path d=\"M200.927,-365.4551C180.4652,-355.628 154.9603,-343.3789 133.2258,-332.9407\" fill=\"none\" stroke=\"#000000\"/>\n",
       "<polygon fill=\"#000000\" points=\"134.6972,-329.7646 124.1676,-328.5904 131.6667,-336.0747 134.6972,-329.7646\" stroke=\"#000000\"/>\n",
       "</g>\n",
       "<!-- 103868160544 -->\n",
       "<g class=\"node\" id=\"node10\">\n",
       "<title>103868160544</title>\n",
       "<polygon fill=\"none\" points=\"191.5,-292.5 191.5,-328.5 313.5,-328.5 313.5,-292.5 191.5,-292.5\" stroke=\"#000000\"/>\n",
       "<text fill=\"#000000\" font-family=\"Times,serif\" font-size=\"14.00\" text-anchor=\"middle\" x=\"252.5\" y=\"-306.8\">aux_output: Dense</text>\n",
       "</g>\n",
       "<!-- 103865721128&#45;&gt;103868160544 -->\n",
       "<g class=\"edge\" id=\"edge9\">\n",
       "<title>103865721128-&gt;103868160544</title>\n",
       "<path d=\"M241.9607,-365.4551C243.5088,-357.3828 245.3703,-347.6764 247.0953,-338.6817\" fill=\"none\" stroke=\"#000000\"/>\n",
       "<polygon fill=\"#000000\" points=\"250.5844,-339.0706 249.0306,-328.5904 243.7097,-337.7521 250.5844,-339.0706\" stroke=\"#000000\"/>\n",
       "</g>\n",
       "<!-- 103868160600 -->\n",
       "<g class=\"node\" id=\"node4\">\n",
       "<title>103868160600</title>\n",
       "<polygon fill=\"none\" points=\"15.5,-365.5 15.5,-401.5 157.5,-401.5 157.5,-365.5 15.5,-365.5\" stroke=\"#000000\"/>\n",
       "<text fill=\"#000000\" font-family=\"Times,serif\" font-size=\"14.00\" text-anchor=\"middle\" x=\"86.5\" y=\"-379.8\">aux_input: InputLayer</text>\n",
       "</g>\n",
       "<!-- 103868160600&#45;&gt;103868160992 -->\n",
       "<g class=\"edge\" id=\"edge4\">\n",
       "<title>103868160600-&gt;103868160992</title>\n",
       "<path d=\"M86.5,-365.4551C86.5,-357.3828 86.5,-347.6764 86.5,-338.6817\" fill=\"none\" stroke=\"#000000\"/>\n",
       "<polygon fill=\"#000000\" points=\"90.0001,-338.5903 86.5,-328.5904 83.0001,-338.5904 90.0001,-338.5903\" stroke=\"#000000\"/>\n",
       "</g>\n",
       "<!-- 103868161104 -->\n",
       "<g class=\"node\" id=\"node6\">\n",
       "<title>103868161104</title>\n",
       "<polygon fill=\"none\" points=\"34,-219.5 34,-255.5 139,-255.5 139,-219.5 34,-219.5\" stroke=\"#000000\"/>\n",
       "<text fill=\"#000000\" font-family=\"Times,serif\" font-size=\"14.00\" text-anchor=\"middle\" x=\"86.5\" y=\"-233.8\">dense_1: Dense</text>\n",
       "</g>\n",
       "<!-- 103868160992&#45;&gt;103868161104 -->\n",
       "<g class=\"edge\" id=\"edge5\">\n",
       "<title>103868160992-&gt;103868161104</title>\n",
       "<path d=\"M86.5,-292.4551C86.5,-284.3828 86.5,-274.6764 86.5,-265.6817\" fill=\"none\" stroke=\"#000000\"/>\n",
       "<polygon fill=\"#000000\" points=\"90.0001,-265.5903 86.5,-255.5904 83.0001,-265.5904 90.0001,-265.5903\" stroke=\"#000000\"/>\n",
       "</g>\n",
       "<!-- 103868207792 -->\n",
       "<g class=\"node\" id=\"node7\">\n",
       "<title>103868207792</title>\n",
       "<polygon fill=\"none\" points=\"34,-146.5 34,-182.5 139,-182.5 139,-146.5 34,-146.5\" stroke=\"#000000\"/>\n",
       "<text fill=\"#000000\" font-family=\"Times,serif\" font-size=\"14.00\" text-anchor=\"middle\" x=\"86.5\" y=\"-160.8\">dense_2: Dense</text>\n",
       "</g>\n",
       "<!-- 103868161104&#45;&gt;103868207792 -->\n",
       "<g class=\"edge\" id=\"edge6\">\n",
       "<title>103868161104-&gt;103868207792</title>\n",
       "<path d=\"M86.5,-219.4551C86.5,-211.3828 86.5,-201.6764 86.5,-192.6817\" fill=\"none\" stroke=\"#000000\"/>\n",
       "<polygon fill=\"#000000\" points=\"90.0001,-192.5903 86.5,-182.5904 83.0001,-192.5904 90.0001,-192.5903\" stroke=\"#000000\"/>\n",
       "</g>\n",
       "<!-- 103868302728 -->\n",
       "<g class=\"node\" id=\"node8\">\n",
       "<title>103868302728</title>\n",
       "<polygon fill=\"none\" points=\"34,-73.5 34,-109.5 139,-109.5 139,-73.5 34,-73.5\" stroke=\"#000000\"/>\n",
       "<text fill=\"#000000\" font-family=\"Times,serif\" font-size=\"14.00\" text-anchor=\"middle\" x=\"86.5\" y=\"-87.8\">dense_3: Dense</text>\n",
       "</g>\n",
       "<!-- 103868207792&#45;&gt;103868302728 -->\n",
       "<g class=\"edge\" id=\"edge7\">\n",
       "<title>103868207792-&gt;103868302728</title>\n",
       "<path d=\"M86.5,-146.4551C86.5,-138.3828 86.5,-128.6764 86.5,-119.6817\" fill=\"none\" stroke=\"#000000\"/>\n",
       "<polygon fill=\"#000000\" points=\"90.0001,-119.5903 86.5,-109.5904 83.0001,-119.5904 90.0001,-119.5903\" stroke=\"#000000\"/>\n",
       "</g>\n",
       "<!-- 103868413208 -->\n",
       "<g class=\"node\" id=\"node9\">\n",
       "<title>103868413208</title>\n",
       "<polygon fill=\"none\" points=\"21.5,-.5 21.5,-36.5 151.5,-36.5 151.5,-.5 21.5,-.5\" stroke=\"#000000\"/>\n",
       "<text fill=\"#000000\" font-family=\"Times,serif\" font-size=\"14.00\" text-anchor=\"middle\" x=\"86.5\" y=\"-14.8\">main_output: Dense</text>\n",
       "</g>\n",
       "<!-- 103868302728&#45;&gt;103868413208 -->\n",
       "<g class=\"edge\" id=\"edge8\">\n",
       "<title>103868302728-&gt;103868413208</title>\n",
       "<path d=\"M86.5,-73.4551C86.5,-65.3828 86.5,-55.6764 86.5,-46.6817\" fill=\"none\" stroke=\"#000000\"/>\n",
       "<polygon fill=\"#000000\" points=\"90.0001,-46.5903 86.5,-36.5904 83.0001,-46.5904 90.0001,-46.5903\" stroke=\"#000000\"/>\n",
       "</g>\n",
       "</g>\n",
       "</svg>"
      ],
      "text/plain": [
       "<IPython.core.display.SVG object>"
      ]
     },
     "execution_count": 7,
     "metadata": {},
     "output_type": "execute_result"
    }
   ],
   "source": [
    "from IPython.display import SVG\n",
    "from keras.utils.vis_utils import model_to_dot\n",
    "\n",
    "SVG(model_to_dot(model).create(prog='dot', format='svg'))"
   ]
  },
  {
   "cell_type": "code",
   "execution_count": null,
   "metadata": {},
   "outputs": [],
   "source": [
    "#I do not have the dat\n",
    "model.compile(optimizer='rmsprop', loss='binary_crossentropy',loss_weights=[1., 0.2])\n",
    "model.fit([headline_data, additional_data], [labels, labels],epochs=50, batch_size=32)\n",
    "model.compile(optimizer='rmsprop',\n",
    "              loss={'main_output': 'binary_crossentropy', 'aux_output': 'binary_crossentropy'},\n",
    "              loss_weights={'main_output': 1., 'aux_output': 0.2})\n",
    "\n",
    "# And trained it via:\n",
    "model.fit({'main_input': headline_data, 'aux_input': additional_data},\n",
    "          {'main_output': labels, 'aux_output': labels},\n",
    "          epochs=50, batch_size=32)"
   ]
  },
  {
   "cell_type": "code",
   "execution_count": null,
   "metadata": {},
   "outputs": [],
   "source": [
    "#let me find where this headline_data comes from and train the model\n",
    "#cannot find the data..."
   ]
  },
  {
   "cell_type": "code",
   "execution_count": 8,
   "metadata": {},
   "outputs": [
    {
     "data": {
      "text/plain": [
       "<keras.engine.training.Model at 0x182f0bd860>"
      ]
     },
     "execution_count": 8,
     "metadata": {},
     "output_type": "execute_result"
    }
   ],
   "source": [
    "model"
   ]
  },
  {
   "cell_type": "code",
   "execution_count": 9,
   "metadata": {},
   "outputs": [
    {
     "name": "stdout",
     "output_type": "stream",
     "text": [
      "__________________________________________________________________________________________________\n",
      "Layer (type)                    Output Shape         Param #     Connected to                     \n",
      "==================================================================================================\n",
      "main_input (InputLayer)         (None, 100)          0                                            \n",
      "__________________________________________________________________________________________________\n",
      "embedding_2 (Embedding)         (None, 100, 512)     5120000     main_input[0][0]                 \n",
      "__________________________________________________________________________________________________\n",
      "lstm_2 (LSTM)                   (None, 32)           69760       embedding_2[0][0]                \n",
      "__________________________________________________________________________________________________\n",
      "aux_input (InputLayer)          (None, 5)            0                                            \n",
      "__________________________________________________________________________________________________\n",
      "concatenate_1 (Concatenate)     (None, 37)           0           lstm_2[0][0]                     \n",
      "                                                                 aux_input[0][0]                  \n",
      "__________________________________________________________________________________________________\n",
      "dense_1 (Dense)                 (None, 64)           2432        concatenate_1[0][0]              \n",
      "__________________________________________________________________________________________________\n",
      "dense_2 (Dense)                 (None, 64)           4160        dense_1[0][0]                    \n",
      "__________________________________________________________________________________________________\n",
      "dense_3 (Dense)                 (None, 64)           4160        dense_2[0][0]                    \n",
      "__________________________________________________________________________________________________\n",
      "main_output (Dense)             (None, 1)            65          dense_3[0][0]                    \n",
      "__________________________________________________________________________________________________\n",
      "aux_output (Dense)              (None, 1)            33          lstm_2[0][0]                     \n",
      "==================================================================================================\n",
      "Total params: 5,200,610\n",
      "Trainable params: 5,200,610\n",
      "Non-trainable params: 0\n",
      "__________________________________________________________________________________________________\n"
     ]
    }
   ],
   "source": [
    "model.summary()"
   ]
  },
  {
   "cell_type": "markdown",
   "metadata": {},
   "source": [
    "Shared Layer"
   ]
  },
  {
   "cell_type": "code",
   "execution_count": 12,
   "metadata": {},
   "outputs": [
    {
     "data": {
      "image/svg+xml": [
       "<svg height=\"264pt\" viewBox=\"0.00 0.00 284.00 264.00\" width=\"284pt\" xmlns=\"http://www.w3.org/2000/svg\" xmlns:xlink=\"http://www.w3.org/1999/xlink\">\n",
       "<g class=\"graph\" id=\"graph0\" transform=\"scale(1 1) rotate(0) translate(4 260)\">\n",
       "<title>G</title>\n",
       "<polygon fill=\"#ffffff\" points=\"-4,4 -4,-260 280,-260 280,4 -4,4\" stroke=\"transparent\"/>\n",
       "<!-- 103893867600 -->\n",
       "<g class=\"node\" id=\"node1\">\n",
       "<title>103893867600</title>\n",
       "<polygon fill=\"none\" points=\"0,-219.5 0,-255.5 129,-255.5 129,-219.5 0,-219.5\" stroke=\"#000000\"/>\n",
       "<text fill=\"#000000\" font-family=\"Times,serif\" font-size=\"14.00\" text-anchor=\"middle\" x=\"64.5\" y=\"-233.8\">input_4: InputLayer</text>\n",
       "</g>\n",
       "<!-- 103893868216 -->\n",
       "<g class=\"node\" id=\"node3\">\n",
       "<title>103893868216</title>\n",
       "<polygon fill=\"none\" points=\"88,-146.5 88,-182.5 187,-182.5 187,-146.5 88,-146.5\" stroke=\"#000000\"/>\n",
       "<text fill=\"#000000\" font-family=\"Times,serif\" font-size=\"14.00\" text-anchor=\"middle\" x=\"137.5\" y=\"-160.8\">lstm_5: LSTM</text>\n",
       "</g>\n",
       "<!-- 103893867600&#45;&gt;103893868216 -->\n",
       "<g class=\"edge\" id=\"edge1\">\n",
       "<title>103893867600-&gt;103893868216</title>\n",
       "<path d=\"M82.5449,-219.4551C91.4946,-210.5054 102.453,-199.547 112.2231,-189.7769\" fill=\"none\" stroke=\"#000000\"/>\n",
       "<polygon fill=\"#000000\" points=\"114.8134,-192.1363 119.4096,-182.5904 109.8637,-187.1866 114.8134,-192.1363\" stroke=\"#000000\"/>\n",
       "</g>\n",
       "<!-- 103893867544 -->\n",
       "<g class=\"node\" id=\"node2\">\n",
       "<title>103893867544</title>\n",
       "<polygon fill=\"none\" points=\"147,-219.5 147,-255.5 276,-255.5 276,-219.5 147,-219.5\" stroke=\"#000000\"/>\n",
       "<text fill=\"#000000\" font-family=\"Times,serif\" font-size=\"14.00\" text-anchor=\"middle\" x=\"211.5\" y=\"-233.8\">input_5: InputLayer</text>\n",
       "</g>\n",
       "<!-- 103893867544&#45;&gt;103893868216 -->\n",
       "<g class=\"edge\" id=\"edge2\">\n",
       "<title>103893867544-&gt;103893868216</title>\n",
       "<path d=\"M193.2079,-219.4551C184.1356,-210.5054 173.0271,-199.547 163.1232,-189.7769\" fill=\"none\" stroke=\"#000000\"/>\n",
       "<polygon fill=\"#000000\" points=\"165.4152,-187.1215 155.8382,-182.5904 160.4992,-192.1049 165.4152,-187.1215\" stroke=\"#000000\"/>\n",
       "</g>\n",
       "<!-- 103893867824 -->\n",
       "<g class=\"node\" id=\"node4\">\n",
       "<title>103893867824</title>\n",
       "<polygon fill=\"none\" points=\"51,-73.5 51,-109.5 224,-109.5 224,-73.5 51,-73.5\" stroke=\"#000000\"/>\n",
       "<text fill=\"#000000\" font-family=\"Times,serif\" font-size=\"14.00\" text-anchor=\"middle\" x=\"137.5\" y=\"-87.8\">concatenate_3: Concatenate</text>\n",
       "</g>\n",
       "<!-- 103893868216&#45;&gt;103893867824 -->\n",
       "<g class=\"edge\" id=\"edge3\">\n",
       "<title>103893868216-&gt;103893867824</title>\n",
       "<path d=\"M137.5,-146.4551C137.5,-138.3828 137.5,-128.6764 137.5,-119.6817\" fill=\"none\" stroke=\"#000000\"/>\n",
       "<polygon fill=\"#000000\" points=\"141.0001,-119.5903 137.5,-109.5904 134.0001,-119.5904 141.0001,-119.5903\" stroke=\"#000000\"/>\n",
       "</g>\n",
       "<!-- 103893979712 -->\n",
       "<g class=\"node\" id=\"node5\">\n",
       "<title>103893979712</title>\n",
       "<polygon fill=\"none\" points=\"85,-.5 85,-36.5 190,-36.5 190,-.5 85,-.5\" stroke=\"#000000\"/>\n",
       "<text fill=\"#000000\" font-family=\"Times,serif\" font-size=\"14.00\" text-anchor=\"middle\" x=\"137.5\" y=\"-14.8\">dense_5: Dense</text>\n",
       "</g>\n",
       "<!-- 103893867824&#45;&gt;103893979712 -->\n",
       "<g class=\"edge\" id=\"edge5\">\n",
       "<title>103893867824-&gt;103893979712</title>\n",
       "<path d=\"M137.5,-73.4551C137.5,-65.3828 137.5,-55.6764 137.5,-46.6817\" fill=\"none\" stroke=\"#000000\"/>\n",
       "<polygon fill=\"#000000\" points=\"141.0001,-46.5903 137.5,-36.5904 134.0001,-46.5904 141.0001,-46.5903\" stroke=\"#000000\"/>\n",
       "</g>\n",
       "</g>\n",
       "</svg>"
      ],
      "text/plain": [
       "<IPython.core.display.SVG object>"
      ]
     },
     "execution_count": 12,
     "metadata": {},
     "output_type": "execute_result"
    }
   ],
   "source": [
    "import keras\n",
    "from keras.layers import Input, LSTM, Dense\n",
    "from keras.models import Model\n",
    "\n",
    "tweet_a = Input(shape=(280, 256))\n",
    "tweet_b = Input(shape=(280, 256))\n",
    "shared_lstm = LSTM(64)\n",
    "\n",
    "# When we reuse the same layer instance\n",
    "# multiple times, the weights of the layer\n",
    "# are also being reused\n",
    "# (it is effectively *the same* layer)\n",
    "encoded_a = shared_lstm(tweet_a)\n",
    "encoded_b = shared_lstm(tweet_b)\n",
    "\n",
    "# We can then concatenate the two vectors:\n",
    "merged_vector = keras.layers.concatenate([encoded_a, encoded_b], axis=-1)\n",
    "\n",
    "# And add a logistic regression on top\n",
    "predictions = Dense(1, activation='sigmoid')(merged_vector)\n",
    "\n",
    "# We define a trainable model linking the\n",
    "# tweet inputs to the predictions\n",
    "model = Model(inputs=[tweet_a, tweet_b], outputs=predictions)\n",
    "\n",
    "#I do not have the data\n",
    "#model.compile(optimizer='rmsprop',\n",
    "#              loss='binary_crossentropy',\n",
    "#              metrics=['accuracy'])\n",
    "#model.fit([data_a, data_b], labels, epochs=10)\n",
    "SVG(model_to_dot(model).create(prog='dot', format='svg'))"
   ]
  },
  {
   "cell_type": "code",
   "execution_count": null,
   "metadata": {},
   "outputs": [],
   "source": []
  }
 ],
 "metadata": {
  "kernelspec": {
   "display_name": "Python 3",
   "language": "python",
   "name": "python3"
  },
  "language_info": {
   "codemirror_mode": {
    "name": "ipython",
    "version": 3
   },
   "file_extension": ".py",
   "mimetype": "text/x-python",
   "name": "python",
   "nbconvert_exporter": "python",
   "pygments_lexer": "ipython3",
   "version": "3.6.4"
  }
 },
 "nbformat": 4,
 "nbformat_minor": 2
}

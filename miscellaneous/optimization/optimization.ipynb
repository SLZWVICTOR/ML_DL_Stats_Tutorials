{
 "cells": [
  {
   "cell_type": "code",
   "execution_count": 1,
   "metadata": {},
   "outputs": [],
   "source": [
    "import cvxpy\n",
    "import numpy as np"
   ]
  },
  {
   "cell_type": "code",
   "execution_count": 2,
   "metadata": {},
   "outputs": [],
   "source": [
    "#the knapsack problem\n",
    "# The data for the Knapsack problem\n",
    "# P is total weight capacity of sack\n",
    "# weights and utilities are also specified\n",
    "P = 165\n",
    "weights = np.array([23, 31, 29, 44, 53, 38, 63, 85, 89, 82])\n",
    "utilities = np.array([92, 57, 49, 68, 60, 43, 67, 84, 87, 72])"
   ]
  },
  {
   "cell_type": "code",
   "execution_count": 14,
   "metadata": {},
   "outputs": [
    {
     "data": {
      "text/plain": [
       "10"
      ]
     },
     "execution_count": 14,
     "metadata": {},
     "output_type": "execute_result"
    }
   ],
   "source": [
    "len(weights)"
   ]
  },
  {
   "cell_type": "code",
   "execution_count": 15,
   "metadata": {},
   "outputs": [
    {
     "data": {
      "text/plain": [
       "309.0"
      ]
     },
     "execution_count": 15,
     "metadata": {},
     "output_type": "execute_result"
    }
   ],
   "source": [
    "#specify the boolean variables for integer optimization\n",
    "selection = cvx.Variable(10, boolean=True)\n",
    "# The sum of the weights should be less than or equal to P\n",
    "weight_constraint = weights * selection <= P\n",
    "\n",
    "# Our total utility is the sum of the item utilities\n",
    "total_utility = utilities * selection\n",
    "\n",
    "# We tell cvxpy that we want to maximize total utility \n",
    "# subject to weight_constraint. All constraints in \n",
    "# cvxpy must be passed as a list\n",
    "knapsack_problem = cvxpy.Problem(cvxpy.Maximize(total_utility), [weight_constraint])\n",
    "\n",
    "# Solving the problem\n",
    "knapsack_problem.solve(solver=cvxpy.GLPK_MI)"
   ]
  },
  {
   "cell_type": "code",
   "execution_count": 16,
   "metadata": {},
   "outputs": [
    {
     "data": {
      "text/plain": [
       "309.0"
      ]
     },
     "execution_count": 16,
     "metadata": {},
     "output_type": "execute_result"
    }
   ],
   "source": [
    "knapsack_problem.value"
   ]
  },
  {
   "cell_type": "markdown",
   "metadata": {},
   "source": [
    "We’ve specified that cvxpy should use the GLPK_MI solver in the solve method. This is a special solver designed for IP problems."
   ]
  },
  {
   "cell_type": "code",
   "execution_count": 6,
   "metadata": {},
   "outputs": [
    {
     "name": "stdout",
     "output_type": "stream",
     "text": [
      "status: optimal\n",
      "optimal value 1.0\n",
      "optimal var 1.0 1.570086213240983e-22\n"
     ]
    }
   ],
   "source": [
    "import cvxpy as cvx\n",
    "# Create two scalar optimization variables.\n",
    "x = cvx.Variable()\n",
    "y = cvx.Variable()\n",
    "# Create two constraints.\n",
    "constraints = [x + y == 1,\n",
    "x - y >= 1]\n",
    "# Form objective.\n",
    "obj = cvx.Minimize((x - y)**2)\n",
    "# Form and solve problem.\n",
    "prob = cvx.Problem(obj, constraints)\n",
    "prob.solve() # Returns the optimal value.\n",
    "print(\"status:\", prob.status)\n",
    "print(\"optimal value\", prob.value)\n",
    "print(\"optimal var\", x.value, y.value)"
   ]
  },
  {
   "cell_type": "code",
   "execution_count": 7,
   "metadata": {},
   "outputs": [
    {
     "name": "stdout",
     "output_type": "stream",
     "text": [
      "status: infeasible\n",
      "optimal value inf\n",
      "status: unbounded\n",
      "optimal value -inf\n"
     ]
    }
   ],
   "source": [
    "x = cvx.Variable()\n",
    "\n",
    "# An infeasible problem.\n",
    "prob = cvx.Problem(cvx.Minimize(x), [x >= 1, x <= 0])\n",
    "prob.solve()\n",
    "print(\"status:\", prob.status)\n",
    "print(\"optimal value\", prob.value)\n",
    "\n",
    "# An unbounded problem.\n",
    "prob = cvx.Problem(cvx.Minimize(x))\n",
    "prob.solve()\n",
    "print(\"status:\", prob.status)\n",
    "print(\"optimal value\", prob.value)"
   ]
  },
  {
   "cell_type": "code",
   "execution_count": 8,
   "metadata": {},
   "outputs": [
    {
     "name": "stdout",
     "output_type": "stream",
     "text": [
      "Optimal value 4.141338603672536\n",
      "Optimal var\n",
      "[-4.80085741e-21  5.90994300e-21  1.34643668e-01  1.24976681e-01\n",
      " -4.69974639e-21]\n"
     ]
    }
   ],
   "source": [
    "# Solves a bounded least-squares problem.\n",
    "\n",
    "import cvxpy as cvx\n",
    "import numpy\n",
    "\n",
    "# Problem data.\n",
    "m = 10\n",
    "n = 5\n",
    "numpy.random.seed(1)\n",
    "A = numpy.random.randn(m, n)\n",
    "b = numpy.random.randn(m)\n",
    "\n",
    "# Construct the problem.\n",
    "x = cvx.Variable(n)\n",
    "objective = cvx.Minimize(cvx.sum_squares(A*x - b))\n",
    "constraints = [0 <= x, x <= 1]\n",
    "prob = cvx.Problem(objective, constraints)\n",
    "\n",
    "print(\"Optimal value\", prob.solve())\n",
    "print(\"Optimal var\")\n",
    "print(x.value) # A numpy ndarray."
   ]
  },
  {
   "cell_type": "markdown",
   "metadata": {},
   "source": [
    "#Parameters are symbolic representations of constants. The purpose of parameters is to change the value of a constant in a problem without reconstructing the entire problem."
   ]
  },
  {
   "cell_type": "code",
   "execution_count": 11,
   "metadata": {},
   "outputs": [
    {
     "name": "stdout",
     "output_type": "stream",
     "text": [
      "[array([-0.17823787,  0.33773981, -0.23499475,  0.12534639, -0.42465821,\n",
      "       -0.00829154, -0.24445593,  0.19126016,  0.1926357 ,  0.1133424 ]), array([-0.17826541,  0.33771648, -0.23499035,  0.12532385, -0.42463773,\n",
      "       -0.00827507, -0.24443841,  0.19126302,  0.19261624,  0.11333562]), array([-0.178309  ,  0.33767958, -0.23498346,  0.12528822, -0.42460531,\n",
      "       -0.00824908, -0.24441074,  0.19126762,  0.19258544,  0.11332488]), array([-0.17837888,  0.33762044, -0.23497244,  0.12523114, -0.42455329,\n",
      "       -0.00820732, -0.24436637,  0.19127498,  0.19253612,  0.11330772]), array([-0.17849077,  0.33752577, -0.23495482,  0.12513979, -0.42446995,\n",
      "       -0.00814031, -0.24429535,  0.19128669,  0.19245722,  0.11328025]), array([-0.17866937,  0.33737459, -0.2349266 ,  0.12499382, -0.42433709,\n",
      "       -0.00803382, -0.24418196,  0.19130557,  0.19233105,  0.11323631]), array([-0.17895519,  0.33713269, -0.23488153,  0.12476041, -0.42412392,\n",
      "       -0.00786254, -0.2440003 ,  0.19133552,  0.19212949,  0.11316653]), array([-0.17940688,  0.33675145, -0.23481195,  0.12439262, -0.42378786,\n",
      "       -0.00759266, -0.24371467,  0.19138369,  0.19181139,  0.1130555 ]), array([-0.18013559,  0.3361345 , -0.23469702,  0.12379756, -0.42324487,\n",
      "       -0.00715665, -0.24325221,  0.19146044,  0.19129728,  0.11287611]), array([-0.18130141,  0.3351483 , -0.23451416,  0.12284616, -0.42237645,\n",
      "       -0.00645914, -0.24251272,  0.19158337,  0.1904752 ,  0.11258974]), array([-0.18316478,  0.33357436, -0.23422457,  0.12132676, -0.42098991,\n",
      "       -0.00534569, -0.24133188,  0.19178067,  0.18916178,  0.11213335]), array([-0.18614355,  0.33105543, -0.23375784,  0.11889559, -0.41877346,\n",
      "       -0.00356709, -0.23944337,  0.19209603,  0.18706005,  0.11140103]), array([-0.19033531,  0.32743079, -0.23294238,  0.11532589, -0.41586096,\n",
      "       -0.00145495, -0.23681676,  0.19265519,  0.1838795 ,  0.11017587]), array([-0.19648895,  0.32202224, -0.23157161,  0.10992268, -0.41181177,\n",
      "        0.00121738, -0.23299469,  0.19360257,  0.17896598,  0.10816413]), array([-0.20274797,  0.3159049 , -0.22894867,  0.1032743 , -0.4093037 ,\n",
      "        0.00089421, -0.22934994,  0.19546309,  0.17223534,  0.10460722]), array([-0.21366315,  0.30548138, -0.22486491,  0.09213581, -0.4042861 ,\n",
      "        0.00154504, -0.2228933 ,  0.19834826,  0.161184  ,  0.0990052 ]), array([-0.23334027,  0.28723173, -0.21859126,  0.07309596, -0.39379132,\n",
      "        0.00545037, -0.2110381 ,  0.20274486,  0.14281943,  0.09025875]), array([-0.26642138,  0.25690076, -0.20873488,  0.04172878, -0.37524238,\n",
      "        0.01373064, -0.1909785 ,  0.20963713,  0.11293364,  0.07639629]), array([-0.31096973,  0.21283222, -0.19285091,  0.00102676, -0.34819929,\n",
      "        0.02480341, -0.16368414,  0.21809552,  0.07169544,  0.0536531 ]), array([-0.32665131,  0.17169658, -0.16630572, -0.00127056, -0.32210138,\n",
      "        0.02853729, -0.15159361,  0.21441623,  0.04943543,  0.0137018 ]), array([-3.30112149e-01,  1.33618925e-01, -1.23411998e-01, -2.90415905e-04,\n",
      "       -2.79626418e-01,  3.57804355e-02, -1.29341424e-01,  2.07199821e-01,\n",
      "        3.04250900e-02, -5.49448557e-04]), array([-3.28728661e-01,  8.41901370e-02, -5.48591960e-02, -1.30908693e-07,\n",
      "       -2.10485204e-01,  4.85918620e-02, -9.06920611e-02,  1.96119825e-01,\n",
      "        5.30348333e-03, -5.69149783e-09]), array([-3.31127518e-01,  1.17960282e-02, -1.43390672e-05, -2.87204769e-05,\n",
      "       -1.17017091e-01,  7.98446135e-02, -2.25832868e-02,  1.64905428e-01,\n",
      "        2.14295520e-05, -2.11301890e-07]), array([-2.83601791e-01, -4.38059691e-05,  1.12813163e-05,  2.40046068e-05,\n",
      "       -4.73430296e-02,  6.91753047e-02,  2.45555671e-05,  1.22968935e-01,\n",
      "       -8.29981903e-05,  2.26498136e-05]), array([-1.79820341e-01, -1.41656964e-04,  2.69335069e-04,  4.42669669e-04,\n",
      "       -1.52603373e-04,  1.00665130e-02,  2.94306697e-04,  6.13333508e-02,\n",
      "       -4.45396425e-04,  2.09894695e-04]), array([-1.46094667e-03,  1.01273489e-03,  8.93831780e-04,  1.13844918e-03,\n",
      "       -1.00467584e-03,  1.14269641e-03, -4.10160734e-05,  1.06186979e-03,\n",
      "        1.73254782e-05, -2.67702615e-05]), array([-3.22704600e-05,  2.53739735e-05,  2.89642618e-05,  4.65045813e-05,\n",
      "       -4.54916442e-05,  5.60075136e-05,  3.24636648e-06,  3.73617439e-05,\n",
      "       -2.04871429e-05,  3.16828816e-06]), array([-1.00129360e-06,  7.86163022e-07,  1.07578039e-06,  1.97033578e-06,\n",
      "       -1.92094095e-06,  2.39263208e-06,  1.91998198e-07,  1.53942661e-06,\n",
      "       -1.09614587e-06,  2.28981422e-07]), array([-3.72422107e-08,  2.88330896e-08,  4.28856214e-08,  8.26814212e-08,\n",
      "       -8.01718204e-08,  1.00099607e-07,  8.73278904e-09,  6.42805840e-08,\n",
      "       -4.86403336e-08,  1.10191289e-08]), array([-1.49037445e-09,  1.14563859e-09,  1.75780985e-09,  3.44995097e-09,\n",
      "       -3.33752257e-09,  4.16971617e-09,  3.73211178e-10,  2.67939881e-09,\n",
      "       -2.06288388e-09,  4.79475787e-10]), array([-6.11980759e-11,  4.69152936e-11,  7.27539402e-11,  1.43640889e-10,\n",
      "       -1.38844048e-10,  1.73498551e-10,  1.56579071e-11,  1.11532753e-10,\n",
      "       -8.63324241e-11,  2.02329022e-11]), array([-2.53769186e-12,  1.93761159e-12,  3.02214601e-12,  5.97349520e-12,\n",
      "       -5.77345279e-12,  7.21563781e-12,  6.55456816e-13,  4.63848066e-12,\n",
      "       -3.59717720e-12,  8.42183761e-13]), array([ 7.18917830e-16,  1.18142836e-15, -6.85798633e-16, -6.81603816e-16,\n",
      "       -6.92988008e-16,  1.18995702e-16, -9.79488470e-17, -8.63317442e-17,\n",
      "        2.11512044e-16,  1.06923825e-15]), array([ 1.41881687e-15,  8.92513548e-16,  5.95418340e-16,  1.56226287e-15,\n",
      "       -1.32639114e-15, -9.20370856e-16, -1.87322208e-16, -2.95622952e-16,\n",
      "        1.27436859e-16, -1.03952062e-15]), array([-4.95481788e-16, -1.11831805e-15, -9.13143013e-16, -8.79700171e-16,\n",
      "       -1.25724880e-16,  1.26066345e-15, -3.25281224e-16, -7.61293535e-16,\n",
      "        2.65450777e-17,  1.54702060e-15]), array([-2.04672093e-15, -8.83345405e-16,  1.12199083e-15, -1.39024239e-15,\n",
      "        1.24342528e-15, -2.34452493e-15, -1.01365822e-16, -4.36678887e-17,\n",
      "       -7.44858707e-16,  1.73308118e-15]), array([ 1.48254194e-15,  5.12100175e-16,  9.28682989e-15, -2.56439545e-15,\n",
      "        4.18213013e-15,  4.43877047e-16, -3.52750166e-17,  1.67491601e-16,\n",
      "       -1.79956737e-15,  6.12599660e-16]), array([-1.57690622e-15, -1.61926512e-15,  9.50314255e-16,  2.69640819e-16,\n",
      "       -1.05504840e-15,  9.58889811e-15,  8.31638096e-16,  1.52577260e-16,\n",
      "        2.44125222e-15,  3.77389841e-16]), array([-9.53000167e-15, -1.08448155e-14, -5.15919760e-15,  5.02429789e-17,\n",
      "        3.84391856e-16,  1.82944414e-14, -9.75901697e-16, -1.05545055e-14,\n",
      "        2.09507290e-15, -9.92286175e-16]), array([-1.47534747e-14, -7.27035325e-15, -1.46885258e-14, -1.40201592e-14,\n",
      "       -1.24513044e-14,  7.78860421e-15, -3.04858768e-15, -1.83571744e-14,\n",
      "        5.97218178e-15,  7.03696539e-15]), array([-3.13960147e-15,  3.61779185e-15,  3.17801006e-15, -5.21723051e-15,\n",
      "       -6.42358201e-15,  3.48888700e-16,  2.60153997e-14, -7.18312633e-16,\n",
      "       -9.57630208e-15, -2.22039749e-15]), array([ 3.87399040e-14,  2.66855324e-14,  4.76987452e-14,  5.18789830e-14,\n",
      "        4.62524036e-14,  6.90760424e-15, -4.36475105e-15,  3.05947814e-14,\n",
      "        3.14317917e-15,  5.68236658e-14]), array([ 9.00311160e-14,  3.95416395e-14,  8.25727893e-14,  1.63818100e-14,\n",
      "        5.06248044e-14, -2.85748200e-14, -4.95880881e-14,  3.66199366e-14,\n",
      "        2.16832465e-15,  5.69570278e-15]), array([ 1.22306992e-15,  1.40869055e-14, -3.60796905e-15,  6.57847653e-15,\n",
      "       -1.19309947e-14,  1.96614361e-14,  1.88749570e-13,  2.12054666e-15,\n",
      "        1.64305236e-15,  2.46910815e-14]), array([-5.51021362e-14, -2.24661129e-14, -1.41215074e-14, -2.69115437e-14,\n",
      "        3.88265595e-14, -1.70215340e-14,  9.05535989e-14,  1.80704090e-13,\n",
      "       -1.29722615e-13, -2.08854703e-13]), array([ 2.62663492e-14,  2.10915959e-14, -3.57838755e-14,  5.18565332e-15,\n",
      "        1.37168193e-13,  1.70147436e-13, -3.12395657e-13,  1.64321090e-13,\n",
      "        1.87758631e-15,  2.90012721e-13]), array([-4.89195284e-15,  1.24095506e-14,  5.27979701e-14, -2.15864716e-14,\n",
      "        7.74910462e-14,  7.81849305e-14, -1.04878637e-13, -6.89544592e-14,\n",
      "       -6.15542043e-13, -2.80387139e-14]), array([-4.18312906e-14, -4.57327160e-13, -3.28608493e-14,  3.08313103e-13,\n",
      "        1.31964473e-13, -4.95445137e-13, -3.11162078e-13, -9.40714966e-13,\n",
      "       -6.09541025e-14,  5.01193413e-13]), array([-1.20863487e-12,  4.27582089e-13, -1.16692158e-13, -1.77278634e-13,\n",
      "       -1.77578985e-12, -3.74409789e-13,  2.51145945e-13, -4.82273045e-13,\n",
      "        4.70957047e-13, -1.26779759e-13]), array([ 1.14540082e-13,  1.19336706e-12,  5.33439483e-13, -9.12495400e-13,\n",
      "       -2.03363324e-12, -3.00981764e-12, -1.32755722e-12,  1.74996825e-12,\n",
      "        2.52669787e-13, -2.03603215e-13])]\n"
     ]
    }
   ],
   "source": [
    "import cvxpy as cvx\n",
    "import numpy\n",
    "import matplotlib.pyplot as plt\n",
    "\n",
    "# Problem data.\n",
    "n = 15\n",
    "m = 10\n",
    "numpy.random.seed(1)\n",
    "A = numpy.random.randn(n, m)\n",
    "b = numpy.random.randn(n)\n",
    "# gamma must be nonnegative due to DCP rules.\n",
    "gamma = cvx.Parameter(nonneg=True)\n",
    "\n",
    "# Construct the problem.\n",
    "x = cvx.Variable(m)\n",
    "error = cvx.sum_squares(A*x - b)\n",
    "obj = cvx.Minimize(error + gamma*cvx.norm(x, 1))\n",
    "prob = cvx.Problem(obj)\n",
    "\n",
    "# Construct a trade-off curve of ||Ax-b||^2 vs. ||x||_1\n",
    "sq_penalty = []\n",
    "l1_penalty = []\n",
    "x_values = []\n",
    "gamma_vals = numpy.logspace(-4, 6)\n",
    "for val in gamma_vals:\n",
    "    gamma.value = val\n",
    "    prob.solve()\n",
    "    # Use expr.value to get the numerical value of\n",
    "    # an expression in the problem.\n",
    "    sq_penalty.append(error.value)\n",
    "    l1_penalty.append(cvx.norm(x, 1).value)\n",
    "    x_values.append(x.value)\n",
    "print(x_values)"
   ]
  },
  {
   "cell_type": "code",
   "execution_count": 13,
   "metadata": {},
   "outputs": [
    {
     "name": "stdout",
     "output_type": "stream",
     "text": [
      "Populating the interactive namespace from numpy and matplotlib\n"
     ]
    },
    {
     "data": {
      "text/plain": [
       "[<matplotlib.lines.Line2D at 0x182865bc50>,\n",
       " <matplotlib.lines.Line2D at 0x182865b550>,\n",
       " <matplotlib.lines.Line2D at 0x182865b7b8>,\n",
       " <matplotlib.lines.Line2D at 0x1828639128>,\n",
       " <matplotlib.lines.Line2D at 0x1828639f28>,\n",
       " <matplotlib.lines.Line2D at 0x1828639668>,\n",
       " <matplotlib.lines.Line2D at 0x1828639240>,\n",
       " <matplotlib.lines.Line2D at 0x1828e919b0>,\n",
       " <matplotlib.lines.Line2D at 0x1828e91f28>,\n",
       " <matplotlib.lines.Line2D at 0x1828e91f98>]"
      ]
     },
     "execution_count": 13,
     "metadata": {},
     "output_type": "execute_result"
    },
    {
     "data": {
      "image/png": "[encoded data removed]",
      "text/plain": [
       "<matplotlib.figure.Figure at 0x1828f95e48>"
      ]
     },
     "metadata": {},
     "output_type": "display_data"
    }
   ],
   "source": [
    "%pylab inline\n",
    "plot(x_values,l1_penalty)"
   ]
  },
  {
   "cell_type": "code",
   "execution_count": null,
   "metadata": {},
   "outputs": [],
   "source": []
  }
 ],
 "metadata": {
  "kernelspec": {
   "display_name": "Python 3",
   "language": "python",
   "name": "python3"
  },
  "language_info": {
   "codemirror_mode": {
    "name": "ipython",
    "version": 3
   },
   "file_extension": ".py",
   "mimetype": "text/x-python",
   "name": "python",
   "nbconvert_exporter": "python",
   "pygments_lexer": "ipython3",
   "version": "3.6.4"
  }
 },
 "nbformat": 4,
 "nbformat_minor": 2
}

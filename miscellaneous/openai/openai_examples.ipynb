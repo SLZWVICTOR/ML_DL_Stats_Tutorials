{
 "cells": [
  {
   "cell_type": "code",
   "execution_count": 1,
   "metadata": {},
   "outputs": [
    {
     "name": "stdout",
     "output_type": "stream",
     "text": [
      "+---------+\n",
      "|R: |\u001b[43m \u001b[0m: :G|\n",
      "| : : : : |\n",
      "| : : : : |\n",
      "| | : | : |\n",
      "|\u001b[34;1mY\u001b[0m| : |\u001b[35mB\u001b[0m: |\n",
      "+---------+\n",
      "\n",
      "151\n",
      "Episode 50 Total Reward: -56 counter: 77\n",
      "Episode 100 Total Reward: 12 counter: 9\n",
      "Episode 150 Total Reward: -2 counter: 23\n",
      "Episode 200 Total Reward: 10 counter: 11\n",
      "Episode 250 Total Reward: 6 counter: 15\n",
      "Episode 300 Total Reward: 11 counter: 10\n",
      "Episode 350 Total Reward: 3 counter: 18\n",
      "Episode 400 Total Reward: 7 counter: 14\n",
      "Episode 450 Total Reward: 4 counter: 17\n",
      "Episode 500 Total Reward: 10 counter: 11\n",
      "Episode 550 Total Reward: 6 counter: 15\n",
      "Episode 600 Total Reward: 11 counter: 10\n",
      "Episode 650 Total Reward: 12 counter: 9\n",
      "Episode 700 Total Reward: 10 counter: 11\n",
      "Episode 750 Total Reward: 4 counter: 17\n",
      "Episode 800 Total Reward: 11 counter: 10\n",
      "Episode 850 Total Reward: 9 counter: 12\n",
      "Episode 900 Total Reward: 11 counter: 10\n",
      "Episode 950 Total Reward: 4 counter: 17\n",
      "Episode 1000 Total Reward: 11 counter: 10\n"
     ]
    }
   ],
   "source": [
    "#Importing Libararies\n",
    "import gym\n",
    "import numpy as np\n",
    "#Environment Setup\n",
    "env = gym.make(\"Taxi-v2\")\n",
    "env.reset()\n",
    "env.render()\n",
    "# Random Moments\n",
    "state = env.reset()\n",
    "counter = 0\n",
    "reward = None\n",
    "while reward != 20:\n",
    "    state, reward, done, info = env.step(env.action_space.sample())\n",
    "    counter += 1\n",
    "print(counter)\n",
    "# Q table implementation\n",
    "Q = np.zeros([env.observation_space.n, env.action_space.n])\n",
    "G = 0\n",
    "gamma = 0.618\n",
    "for episode in range(1,1001):\n",
    "    done = False\n",
    "    G, reward, counter = 0,0,0\n",
    "    state = env.reset()\n",
    "    while done != True:\n",
    "            action = np.argmax(Q[state])\n",
    "            state2, reward, done, info = env.step(action)\n",
    "            Q[state,action] = (reward + gamma * np.max(Q[state2]))\n",
    "            G += reward\n",
    "            counter += 1\n",
    "            state = state2   \n",
    "    if episode % 50 == 0:\n",
    "        print('Episode {} Total Reward: {} counter: {}'.format(episode,G,counter))"
   ]
  },
  {
   "cell_type": "code",
   "execution_count": 2,
   "metadata": {},
   "outputs": [
    {
     "name": "stdout",
     "output_type": "stream",
     "text": [
      "+---------+\n",
      "|\u001b[35mR\u001b[0m: | : :G|\n",
      "| : : : : |\n",
      "| : : : : |\n",
      "| | :\u001b[43m \u001b[0m| : |\n",
      "|\u001b[34;1mY\u001b[0m| : |B: |\n",
      "+---------+\n",
      "\n"
     ]
    }
   ],
   "source": [
    "#Environment Setup\n",
    "env = gym.make(\"Taxi-v2\")\n",
    "env.reset()\n",
    "env.render()"
   ]
  },
  {
   "cell_type": "code",
   "execution_count": 6,
   "metadata": {},
   "outputs": [
    {
     "data": {
      "text/plain": [
       "(500, 6)"
      ]
     },
     "execution_count": 6,
     "metadata": {},
     "output_type": "execute_result"
    }
   ],
   "source": [
    "Q.shape"
   ]
  }
 ],
 "metadata": {
  "kernelspec": {
   "display_name": "Python 3",
   "language": "python",
   "name": "python3"
  },
  "language_info": {
   "codemirror_mode": {
    "name": "ipython",
    "version": 3
   },
   "file_extension": ".py",
   "mimetype": "text/x-python",
   "name": "python",
   "nbconvert_exporter": "python",
   "pygments_lexer": "ipython3",
   "version": "3.6.4"
  }
 },
 "nbformat": 4,
 "nbformat_minor": 2
}
